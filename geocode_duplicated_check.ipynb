{
 "cells": [
  {
   "cell_type": "code",
   "execution_count": 33,
   "metadata": {},
   "outputs": [],
   "source": [
    "import pymysql\n",
    "import pandas as pd"
   ]
  },
  {
   "cell_type": "code",
   "execution_count": 35,
   "metadata": {},
   "outputs": [],
   "source": [
    "address_code = pd.read_excel('geocode_repeat.xlsx')"
   ]
  },
  {
   "cell_type": "code",
   "execution_count": 46,
   "metadata": {},
   "outputs": [],
   "source": [
    "cursor.execute(\"select address_code_number,address_name,collected_latitude,collected_longitude,collector_id,manager_id,create_time,update_time from store.population_collector_address where address_code_number in \"+str(tuple(address_code['address_code_number'])))\n",
    "result =  cursor.fetchall()\n",
    "village_with_latlon = pd.DataFrame(data = result)"
   ]
  },
  {
   "cell_type": "code",
   "execution_count": 48,
   "metadata": {},
   "outputs": [],
   "source": [
    "from geopy import distance\n",
    "def get_sl_distance(lon1,lat1,lon2,lat2):\n",
    "    return distance.distance([lat1, lon1], [lat2, lon2]).km"
   ]
  },
  {
   "cell_type": "code",
   "execution_count": 49,
   "metadata": {},
   "outputs": [],
   "source": [
    "def find_nearest_village(v_code,v_lat,v_lon,county):\n",
    "    temp = county[county['address_code_number'] != v_code].copy()\n",
    "    temp['sl_distance'] = temp.apply(lambda df: get_sl_distance(v_lon,v_lat,df['collected_longitude'],df['collected_latitude']),axis=1)\n",
    "    target = temp[temp['sl_distance'] < 0.1]\n",
    "    target['address_code_number'] = target['address_code_number'].astype(str)\n",
    "    out = target['address_code_number'].values.tolist()\n",
    "    if len(out) <1:\n",
    "        return 1\n",
    "    else:\n",
    "        return ','.join(out)"
   ]
  },
  {
   "cell_type": "code",
   "execution_count": 50,
   "metadata": {
    "scrolled": true
   },
   "outputs": [],
   "source": [
    "village_with_latlon['repetition'] = village_with_latlon.apply(lambda df:find_nearest_village(df['address_code_number'],df['collected_latitude'],df['collected_longitude'],village_with_latlon),axis=1)"
   ]
  },
  {
   "cell_type": "code",
   "execution_count": 51,
   "metadata": {
    "scrolled": true
   },
   "outputs": [],
   "source": [
    "dt1 = village_with_latlon.loc[village_with_latlon['repetition'] != 1]"
   ]
  },
  {
   "cell_type": "code",
   "execution_count": 53,
   "metadata": {},
   "outputs": [],
   "source": [
    "dt1.to_excel('./采集区域经纬度判断/重新采集repeat100m.xlsx')"
   ]
  },
  {
   "cell_type": "code",
   "execution_count": null,
   "metadata": {},
   "outputs": [],
   "source": []
  },
  {
   "cell_type": "code",
   "execution_count": null,
   "metadata": {},
   "outputs": [],
   "source": []
  },
  {
   "cell_type": "code",
   "execution_count": null,
   "metadata": {},
   "outputs": [],
   "source": []
  },
  {
   "cell_type": "code",
   "execution_count": null,
   "metadata": {},
   "outputs": [],
   "source": []
  },
  {
   "cell_type": "code",
   "execution_count": null,
   "metadata": {},
   "outputs": [],
   "source": []
  },
  {
   "cell_type": "code",
   "execution_count": null,
   "metadata": {},
   "outputs": [],
   "source": []
  },
  {
   "cell_type": "code",
   "execution_count": null,
   "metadata": {},
   "outputs": [],
   "source": []
  },
  {
   "cell_type": "code",
   "execution_count": null,
   "metadata": {},
   "outputs": [],
   "source": []
  },
  {
   "cell_type": "code",
   "execution_count": null,
   "metadata": {},
   "outputs": [],
   "source": []
  },
  {
   "cell_type": "code",
   "execution_count": null,
   "metadata": {},
   "outputs": [],
   "source": []
  },
  {
   "cell_type": "code",
   "execution_count": null,
   "metadata": {},
   "outputs": [],
   "source": []
  }
 ],
 "metadata": {
  "kernelspec": {
   "display_name": "Python 3",
   "language": "python",
   "name": "python3"
  },
  "language_info": {
   "codemirror_mode": {
    "name": "ipython",
    "version": 3
   },
   "file_extension": ".py",
   "mimetype": "text/x-python",
   "name": "python",
   "nbconvert_exporter": "python",
   "pygments_lexer": "ipython3",
   "version": "3.6.10"
  }
 },
 "nbformat": 4,
 "nbformat_minor": 4
}
