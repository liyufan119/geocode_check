{
 "cells": [
  {
   "cell_type": "code",
   "execution_count": 33,
   "metadata": {},
   "outputs": [],
   "source": [
    "import pymysql\n"
   ]
  },
  {
   "cell_type": "code",
   "execution_count": 35,
   "metadata": {},
   "outputs": [],
   "source": [
    "import pandas as pd\n",
    "address_code = pd.read_excel('E:/workplace/py36/采集区域经纬度判断/repeat100m_combined.xlsx')"
   ]
  },
  {
   "cell_type": "code",
   "execution_count": 46,
   "metadata": {},
   "outputs": [],
   "source": [
    "cursor.execute(\"select address_code_number,address_name,collected_latitude,collected_longitude,collector_id,manager_id,create_time,update_time from store.population_collector_address where address_code_number in \"+str(tuple(address_code['address_code_number'])))\n",
    "result =  cursor.fetchall()\n",
    "village_with_latlon = pd.DataFrame(data = result)"
   ]
  },
  {
   "cell_type": "code",
   "execution_count": 47,
   "metadata": {
    "scrolled": true
   },
   "outputs": [
    {
     "data": {
      "text/html": [
       "<div>\n",
       "<style scoped>\n",
       "    .dataframe tbody tr th:only-of-type {\n",
       "        vertical-align: middle;\n",
       "    }\n",
       "\n",
       "    .dataframe tbody tr th {\n",
       "        vertical-align: top;\n",
       "    }\n",
       "\n",
       "    .dataframe thead th {\n",
       "        text-align: right;\n",
       "    }\n",
       "</style>\n",
       "<table border=\"1\" class=\"dataframe\">\n",
       "  <thead>\n",
       "    <tr style=\"text-align: right;\">\n",
       "      <th></th>\n",
       "      <th>address_code_number</th>\n",
       "      <th>address_name</th>\n",
       "      <th>collected_latitude</th>\n",
       "      <th>collected_longitude</th>\n",
       "      <th>collector_id</th>\n",
       "      <th>manager_id</th>\n",
       "      <th>create_time</th>\n",
       "      <th>update_time</th>\n",
       "    </tr>\n",
       "  </thead>\n",
       "  <tbody>\n",
       "    <tr>\n",
       "      <th>0</th>\n",
       "      <td>430611103005</td>\n",
       "      <td>君山区钱粮湖镇托龙山社区</td>\n",
       "      <td>29.446405436197917</td>\n",
       "      <td>112.67197374131945</td>\n",
       "      <td>4306119</td>\n",
       "      <td>4306235</td>\n",
       "      <td>2020-09-08 10:29:45</td>\n",
       "      <td>2020-09-11 12:39:32</td>\n",
       "    </tr>\n",
       "    <tr>\n",
       "      <th>1</th>\n",
       "      <td>430611103201</td>\n",
       "      <td>君山区钱粮湖镇西北湖村</td>\n",
       "      <td>29.447857801649306</td>\n",
       "      <td>112.6728480360243</td>\n",
       "      <td>4306119</td>\n",
       "      <td>4306235</td>\n",
       "      <td>2020-09-08 10:29:45</td>\n",
       "      <td>2020-09-11 12:39:41</td>\n",
       "    </tr>\n",
       "    <tr>\n",
       "      <th>2</th>\n",
       "      <td>430611104002</td>\n",
       "      <td>君山区良心堡镇福华社区</td>\n",
       "      <td>29.355077039930556</td>\n",
       "      <td>112.74698459201389</td>\n",
       "      <td>43061120</td>\n",
       "      <td>4306235</td>\n",
       "      <td>2020-09-08 10:29:45</td>\n",
       "      <td>2020-09-11 19:01:59</td>\n",
       "    </tr>\n",
       "    <tr>\n",
       "      <th>3</th>\n",
       "      <td>430611104201</td>\n",
       "      <td>君山区良心堡镇维新村</td>\n",
       "      <td>29.330127495659724</td>\n",
       "      <td>112.73299235026042</td>\n",
       "      <td>43061120</td>\n",
       "      <td>4306235</td>\n",
       "      <td>2020-09-08 10:29:45</td>\n",
       "      <td>2020-09-11 19:02:06</td>\n",
       "    </tr>\n",
       "    <tr>\n",
       "      <th>4</th>\n",
       "      <td>430611104202</td>\n",
       "      <td>君山区良心堡镇福星村</td>\n",
       "      <td>29.34498779296875</td>\n",
       "      <td>112.74654052734375</td>\n",
       "      <td>43061120</td>\n",
       "      <td>4306235</td>\n",
       "      <td>2020-09-08 10:29:45</td>\n",
       "      <td>2020-09-11 19:02:14</td>\n",
       "    </tr>\n",
       "    <tr>\n",
       "      <th>...</th>\n",
       "      <td>...</td>\n",
       "      <td>...</td>\n",
       "      <td>...</td>\n",
       "      <td>...</td>\n",
       "      <td>...</td>\n",
       "      <td>...</td>\n",
       "      <td>...</td>\n",
       "      <td>...</td>\n",
       "    </tr>\n",
       "    <tr>\n",
       "      <th>75</th>\n",
       "      <td>430903402014</td>\n",
       "      <td>赫山区龙岭工业园八一社区</td>\n",
       "      <td>28.343443467881944</td>\n",
       "      <td>112.51765299479166</td>\n",
       "      <td>43090350</td>\n",
       "      <td>4309035</td>\n",
       "      <td>2020-09-08 10:29:45</td>\n",
       "      <td>2020-09-09 07:08:01</td>\n",
       "    </tr>\n",
       "    <tr>\n",
       "      <th>76</th>\n",
       "      <td>430903002008</td>\n",
       "      <td>赫山区桃花仑街道大桃路社区</td>\n",
       "      <td>28.570528030395508</td>\n",
       "      <td>112.36111450195312</td>\n",
       "      <td>43090351</td>\n",
       "      <td>4309032</td>\n",
       "      <td>2020-09-08 10:29:45</td>\n",
       "      <td>2020-09-12 14:21:46</td>\n",
       "    </tr>\n",
       "    <tr>\n",
       "      <th>77</th>\n",
       "      <td>430903002005</td>\n",
       "      <td>赫山区桃花仑街道康复路社区</td>\n",
       "      <td>28.570571899414062</td>\n",
       "      <td>112.36109924316406</td>\n",
       "      <td>43090351</td>\n",
       "      <td>4309032</td>\n",
       "      <td>2020-09-08 10:29:45</td>\n",
       "      <td>2020-09-12 14:21:54</td>\n",
       "    </tr>\n",
       "    <tr>\n",
       "      <th>78</th>\n",
       "      <td>430903111261</td>\n",
       "      <td>赫山区兰溪镇双港子村</td>\n",
       "      <td>28.54585747612847</td>\n",
       "      <td>112.45939507378472</td>\n",
       "      <td>43090364</td>\n",
       "      <td>4309037</td>\n",
       "      <td>2020-09-08 10:29:45</td>\n",
       "      <td>2020-09-12 09:56:30</td>\n",
       "    </tr>\n",
       "    <tr>\n",
       "      <th>79</th>\n",
       "      <td>430903111211</td>\n",
       "      <td>赫山区兰溪镇鄢家垸村</td>\n",
       "      <td>28.55931369357639</td>\n",
       "      <td>112.48829210069445</td>\n",
       "      <td>43090364</td>\n",
       "      <td>4309037</td>\n",
       "      <td>2020-09-08 10:29:45</td>\n",
       "      <td>2020-09-11 17:31:33</td>\n",
       "    </tr>\n",
       "  </tbody>\n",
       "</table>\n",
       "<p>80 rows × 8 columns</p>\n",
       "</div>"
      ],
      "text/plain": [
       "   address_code_number   address_name  collected_latitude collected_longitude  \\\n",
       "0         430611103005   君山区钱粮湖镇托龙山社区  29.446405436197917  112.67197374131945   \n",
       "1         430611103201    君山区钱粮湖镇西北湖村  29.447857801649306   112.6728480360243   \n",
       "2         430611104002    君山区良心堡镇福华社区  29.355077039930556  112.74698459201389   \n",
       "3         430611104201     君山区良心堡镇维新村  29.330127495659724  112.73299235026042   \n",
       "4         430611104202     君山区良心堡镇福星村   29.34498779296875  112.74654052734375   \n",
       "..                 ...            ...                 ...                 ...   \n",
       "75        430903402014   赫山区龙岭工业园八一社区  28.343443467881944  112.51765299479166   \n",
       "76        430903002008  赫山区桃花仑街道大桃路社区  28.570528030395508  112.36111450195312   \n",
       "77        430903002005  赫山区桃花仑街道康复路社区  28.570571899414062  112.36109924316406   \n",
       "78        430903111261     赫山区兰溪镇双港子村   28.54585747612847  112.45939507378472   \n",
       "79        430903111211     赫山区兰溪镇鄢家垸村   28.55931369357639  112.48829210069445   \n",
       "\n",
       "    collector_id  manager_id         create_time         update_time  \n",
       "0        4306119     4306235 2020-09-08 10:29:45 2020-09-11 12:39:32  \n",
       "1        4306119     4306235 2020-09-08 10:29:45 2020-09-11 12:39:41  \n",
       "2       43061120     4306235 2020-09-08 10:29:45 2020-09-11 19:01:59  \n",
       "3       43061120     4306235 2020-09-08 10:29:45 2020-09-11 19:02:06  \n",
       "4       43061120     4306235 2020-09-08 10:29:45 2020-09-11 19:02:14  \n",
       "..           ...         ...                 ...                 ...  \n",
       "75      43090350     4309035 2020-09-08 10:29:45 2020-09-09 07:08:01  \n",
       "76      43090351     4309032 2020-09-08 10:29:45 2020-09-12 14:21:46  \n",
       "77      43090351     4309032 2020-09-08 10:29:45 2020-09-12 14:21:54  \n",
       "78      43090364     4309037 2020-09-08 10:29:45 2020-09-12 09:56:30  \n",
       "79      43090364     4309037 2020-09-08 10:29:45 2020-09-11 17:31:33  \n",
       "\n",
       "[80 rows x 8 columns]"
      ]
     },
     "execution_count": 47,
     "metadata": {},
     "output_type": "execute_result"
    }
   ],
   "source": [
    "village_with_latlon"
   ]
  },
  {
   "cell_type": "code",
   "execution_count": 48,
   "metadata": {},
   "outputs": [],
   "source": [
    "from geopy import distance\n",
    "def get_sl_distance(lon1,lat1,lon2,lat2):\n",
    "    return distance.distance([lat1, lon1], [lat2, lon2]).km"
   ]
  },
  {
   "cell_type": "code",
   "execution_count": 59,
   "metadata": {
    "scrolled": true
   },
   "outputs": [
    {
     "data": {
      "text/plain": [
       "1.03515542537033"
      ]
     },
     "execution_count": 59,
     "metadata": {},
     "output_type": "execute_result"
    }
   ],
   "source": [
    "get_sl_distance(112.361114501953,28.5705280303955,112.351388,28.574204)"
   ]
  },
  {
   "cell_type": "code",
   "execution_count": 49,
   "metadata": {},
   "outputs": [],
   "source": [
    "def find_nearest_village(v_code,v_lat,v_lon,county):\n",
    "    temp = county[county['address_code_number'] != v_code].copy()\n",
    "    temp['sl_distance'] = temp.apply(lambda df: get_sl_distance(v_lon,v_lat,df['collected_longitude'],df['collected_latitude']),axis=1)\n",
    "    target = temp[temp['sl_distance'] < 0.1]\n",
    "    target['address_code_number'] = target['address_code_number'].astype(str)\n",
    "    out = target['address_code_number'].values.tolist()\n",
    "    if len(out) <1:\n",
    "        return 1\n",
    "    else:\n",
    "        return ','.join(out)"
   ]
  },
  {
   "cell_type": "code",
   "execution_count": 50,
   "metadata": {
    "scrolled": true
   },
   "outputs": [],
   "source": [
    "village_with_latlon['repetition'] = village_with_latlon.apply(lambda df:find_nearest_village(df['address_code_number'],df['collected_latitude'],df['collected_longitude'],village_with_latlon),axis=1)"
   ]
  },
  {
   "cell_type": "code",
   "execution_count": 51,
   "metadata": {
    "scrolled": true
   },
   "outputs": [],
   "source": [
    "dt1 = village_with_latlon.loc[village_with_latlon['repetition'] != 1]"
   ]
  },
  {
   "cell_type": "code",
   "execution_count": 54,
   "metadata": {},
   "outputs": [
    {
     "data": {
      "text/html": [
       "<div>\n",
       "<style scoped>\n",
       "    .dataframe tbody tr th:only-of-type {\n",
       "        vertical-align: middle;\n",
       "    }\n",
       "\n",
       "    .dataframe tbody tr th {\n",
       "        vertical-align: top;\n",
       "    }\n",
       "\n",
       "    .dataframe thead th {\n",
       "        text-align: right;\n",
       "    }\n",
       "</style>\n",
       "<table border=\"1\" class=\"dataframe\">\n",
       "  <thead>\n",
       "    <tr style=\"text-align: right;\">\n",
       "      <th></th>\n",
       "      <th>address_code_number</th>\n",
       "      <th>address_name</th>\n",
       "      <th>collected_latitude</th>\n",
       "      <th>collected_longitude</th>\n",
       "      <th>collector_id</th>\n",
       "      <th>manager_id</th>\n",
       "      <th>create_time</th>\n",
       "      <th>update_time</th>\n",
       "      <th>repetition</th>\n",
       "    </tr>\n",
       "  </thead>\n",
       "  <tbody>\n",
       "    <tr>\n",
       "      <th>70</th>\n",
       "      <td>430903104240</td>\n",
       "      <td>赫山区欧江岔镇欧江岔村</td>\n",
       "      <td>28.488096245659722</td>\n",
       "      <td>112.62327555338541</td>\n",
       "      <td>43090334</td>\n",
       "      <td>4309036</td>\n",
       "      <td>2020-09-08 10:29:45</td>\n",
       "      <td>2020-09-09 15:32:19</td>\n",
       "      <td>430903104003</td>\n",
       "    </tr>\n",
       "    <tr>\n",
       "      <th>73</th>\n",
       "      <td>430903104003</td>\n",
       "      <td>赫山区欧江岔镇罗湖社区</td>\n",
       "      <td>28.488096245659722</td>\n",
       "      <td>112.62327555338541</td>\n",
       "      <td>43090334</td>\n",
       "      <td>4309036</td>\n",
       "      <td>2020-09-08 10:29:45</td>\n",
       "      <td>2020-09-09 15:33:04</td>\n",
       "      <td>430903104240</td>\n",
       "    </tr>\n",
       "    <tr>\n",
       "      <th>74</th>\n",
       "      <td>430903402016</td>\n",
       "      <td>赫山区龙岭工业园南岳坪社区</td>\n",
       "      <td>28.343339572482638</td>\n",
       "      <td>112.51732096354166</td>\n",
       "      <td>43090348</td>\n",
       "      <td>4309035</td>\n",
       "      <td>2020-09-08 10:29:45</td>\n",
       "      <td>2020-09-09 10:35:14</td>\n",
       "      <td>430903402014</td>\n",
       "    </tr>\n",
       "    <tr>\n",
       "      <th>75</th>\n",
       "      <td>430903402014</td>\n",
       "      <td>赫山区龙岭工业园八一社区</td>\n",
       "      <td>28.343443467881944</td>\n",
       "      <td>112.51765299479166</td>\n",
       "      <td>43090350</td>\n",
       "      <td>4309035</td>\n",
       "      <td>2020-09-08 10:29:45</td>\n",
       "      <td>2020-09-09 07:08:01</td>\n",
       "      <td>430903402016</td>\n",
       "    </tr>\n",
       "    <tr>\n",
       "      <th>76</th>\n",
       "      <td>430903002008</td>\n",
       "      <td>赫山区桃花仑街道大桃路社区</td>\n",
       "      <td>28.570528030395508</td>\n",
       "      <td>112.36111450195312</td>\n",
       "      <td>43090351</td>\n",
       "      <td>4309032</td>\n",
       "      <td>2020-09-08 10:29:45</td>\n",
       "      <td>2020-09-12 14:21:46</td>\n",
       "      <td>430903002005</td>\n",
       "    </tr>\n",
       "    <tr>\n",
       "      <th>77</th>\n",
       "      <td>430903002005</td>\n",
       "      <td>赫山区桃花仑街道康复路社区</td>\n",
       "      <td>28.570571899414062</td>\n",
       "      <td>112.36109924316406</td>\n",
       "      <td>43090351</td>\n",
       "      <td>4309032</td>\n",
       "      <td>2020-09-08 10:29:45</td>\n",
       "      <td>2020-09-12 14:21:54</td>\n",
       "      <td>430903002008</td>\n",
       "    </tr>\n",
       "  </tbody>\n",
       "</table>\n",
       "</div>"
      ],
      "text/plain": [
       "   address_code_number   address_name  collected_latitude collected_longitude  \\\n",
       "70        430903104240    赫山区欧江岔镇欧江岔村  28.488096245659722  112.62327555338541   \n",
       "73        430903104003    赫山区欧江岔镇罗湖社区  28.488096245659722  112.62327555338541   \n",
       "74        430903402016  赫山区龙岭工业园南岳坪社区  28.343339572482638  112.51732096354166   \n",
       "75        430903402014   赫山区龙岭工业园八一社区  28.343443467881944  112.51765299479166   \n",
       "76        430903002008  赫山区桃花仑街道大桃路社区  28.570528030395508  112.36111450195312   \n",
       "77        430903002005  赫山区桃花仑街道康复路社区  28.570571899414062  112.36109924316406   \n",
       "\n",
       "    collector_id  manager_id         create_time         update_time  \\\n",
       "70      43090334     4309036 2020-09-08 10:29:45 2020-09-09 15:32:19   \n",
       "73      43090334     4309036 2020-09-08 10:29:45 2020-09-09 15:33:04   \n",
       "74      43090348     4309035 2020-09-08 10:29:45 2020-09-09 10:35:14   \n",
       "75      43090350     4309035 2020-09-08 10:29:45 2020-09-09 07:08:01   \n",
       "76      43090351     4309032 2020-09-08 10:29:45 2020-09-12 14:21:46   \n",
       "77      43090351     4309032 2020-09-08 10:29:45 2020-09-12 14:21:54   \n",
       "\n",
       "      repetition  \n",
       "70  430903104003  \n",
       "73  430903104240  \n",
       "74  430903402014  \n",
       "75  430903402016  \n",
       "76  430903002005  \n",
       "77  430903002008  "
      ]
     },
     "execution_count": 54,
     "metadata": {},
     "output_type": "execute_result"
    }
   ],
   "source": [
    "dt1"
   ]
  },
  {
   "cell_type": "code",
   "execution_count": 53,
   "metadata": {},
   "outputs": [],
   "source": [
    "dt1.to_excel('./采集区域经纬度判断/重新采集repeat100m.xlsx')"
   ]
  },
  {
   "cell_type": "code",
   "execution_count": null,
   "metadata": {},
   "outputs": [],
   "source": []
  },
  {
   "cell_type": "code",
   "execution_count": null,
   "metadata": {},
   "outputs": [],
   "source": []
  },
  {
   "cell_type": "code",
   "execution_count": null,
   "metadata": {},
   "outputs": [],
   "source": []
  },
  {
   "cell_type": "code",
   "execution_count": null,
   "metadata": {},
   "outputs": [],
   "source": []
  },
  {
   "cell_type": "code",
   "execution_count": null,
   "metadata": {},
   "outputs": [],
   "source": []
  },
  {
   "cell_type": "code",
   "execution_count": null,
   "metadata": {},
   "outputs": [],
   "source": []
  },
  {
   "cell_type": "code",
   "execution_count": null,
   "metadata": {},
   "outputs": [],
   "source": []
  },
  {
   "cell_type": "code",
   "execution_count": null,
   "metadata": {},
   "outputs": [],
   "source": []
  },
  {
   "cell_type": "code",
   "execution_count": 10,
   "metadata": {},
   "outputs": [
    {
     "ename": "ModuleNotFoundError",
     "evalue": "No module named 'impala.dbapi'",
     "output_type": "error",
     "traceback": [
      "\u001b[1;31m---------------------------------------------------------------------------\u001b[0m",
      "\u001b[1;31mModuleNotFoundError\u001b[0m                       Traceback (most recent call last)",
      "\u001b[1;32m<ipython-input-10-3feb3a30a0ae>\u001b[0m in \u001b[0;36m<module>\u001b[1;34m\u001b[0m\n\u001b[1;32m----> 1\u001b[1;33m \u001b[1;32mfrom\u001b[0m \u001b[0mimpala\u001b[0m\u001b[1;33m.\u001b[0m\u001b[0mdbapi\u001b[0m \u001b[1;32mimport\u001b[0m \u001b[0mconnect\u001b[0m\u001b[1;33m\u001b[0m\u001b[1;33m\u001b[0m\u001b[0m\n\u001b[0m\u001b[0;32m      2\u001b[0m \u001b[0mconn\u001b[0m \u001b[1;33m=\u001b[0m \u001b[0mconnect\u001b[0m\u001b[1;33m(\u001b[0m\u001b[0mhost\u001b[0m\u001b[1;33m=\u001b[0m\u001b[1;34m'172.21.195.18'\u001b[0m\u001b[1;33m,\u001b[0m \u001b[0mport\u001b[0m\u001b[1;33m=\u001b[0m\u001b[1;36m10000\u001b[0m\u001b[1;33m,\u001b[0m \u001b[0mdatabase\u001b[0m\u001b[1;33m=\u001b[0m\u001b[1;34m'dw_stat'\u001b[0m\u001b[1;33m,\u001b[0m\u001b[0muser\u001b[0m\u001b[1;33m=\u001b[0m\u001b[1;34m'liyufan'\u001b[0m\u001b[1;33m,\u001b[0m\u001b[0mpassword\u001b[0m\u001b[1;33m=\u001b[0m\u001b[1;34m'Juno#2021'\u001b[0m\u001b[1;33m,\u001b[0m\u001b[0mauth_mechanism\u001b[0m\u001b[1;33m=\u001b[0m\u001b[1;34m'PLAIN'\u001b[0m\u001b[1;33m)\u001b[0m\u001b[1;33m\u001b[0m\u001b[1;33m\u001b[0m\u001b[0m\n\u001b[0;32m      3\u001b[0m \u001b[0mcursor\u001b[0m \u001b[1;33m=\u001b[0m \u001b[0mconn\u001b[0m\u001b[1;33m.\u001b[0m\u001b[0mcursor\u001b[0m\u001b[1;33m(\u001b[0m\u001b[1;33m)\u001b[0m\u001b[1;33m\u001b[0m\u001b[1;33m\u001b[0m\u001b[0m\n",
      "\u001b[1;31mModuleNotFoundError\u001b[0m: No module named 'impala.dbapi'"
     ]
    }
   ],
   "source": [
    "from impala.dbapi import connect\n",
    "conn = connect(host='192.168.1.227 ', port=10000, database='dw_stat',user='liyufan',password='Juno#2021',auth_mechanism='PLAIN')\n",
    "cursor = conn.cursor()"
   ]
  },
  {
   "cell_type": "code",
   "execution_count": null,
   "metadata": {},
   "outputs": [],
   "source": [
    "from pyhive import hive \n",
    "conn = hive.Connection(host='172.21.195.18', port=10000, database='dw_stat',user='liyufan',password='Juno#2021',auth_mechanism='PLAIN')\n",
    "cursor = conn.cursor()"
   ]
  },
  {
   "cell_type": "code",
   "execution_count": null,
   "metadata": {},
   "outputs": [],
   "source": [
    "cursor.execute(\"select store_no,count(*),sum(total_qty) from daily_store_order_info where dt>'20200701' and store_no in \"+str(tuple(storecode_list))+' group by store_no')\n",
    "result =  cursor.fetchall()"
   ]
  },
  {
   "cell_type": "code",
   "execution_count": null,
   "metadata": {},
   "outputs": [],
   "source": []
  },
  {
   "cell_type": "code",
   "execution_count": null,
   "metadata": {},
   "outputs": [],
   "source": []
  },
  {
   "cell_type": "code",
   "execution_count": null,
   "metadata": {},
   "outputs": [],
   "source": []
  }
 ],
 "metadata": {
  "kernelspec": {
   "display_name": "Python 3",
   "language": "python",
   "name": "python3"
  },
  "language_info": {
   "codemirror_mode": {
    "name": "ipython",
    "version": 3
   },
   "file_extension": ".py",
   "mimetype": "text/x-python",
   "name": "python",
   "nbconvert_exporter": "python",
   "pygments_lexer": "ipython3",
   "version": "3.6.10"
  }
 },
 "nbformat": 4,
 "nbformat_minor": 4
}
